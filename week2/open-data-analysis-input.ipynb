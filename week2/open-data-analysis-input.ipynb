{
 "cells": [
  {
   "cell_type": "markdown",
   "metadata": {
    "id": "sFMHNAJjE3ON"
   },
   "source": [
    "[![Open In Colab](https://colab.research.google.com/assets/colab-badge.svg)](https://colab.research.google.com/github/corazzon/boostcourse-ds-510/blob/master/open-data-analysis-input.ipynb)\n",
    "\n",
    "\n",
    "# 공공데이터 상권정보 분석해 보기\n",
    "* https://www.data.go.kr/dataset/15012005/fileData.do\n",
    "* 국가중점데이터인 상권정보를 살펴봅니다.\n",
    "* 처음으로 파일데이터에서 `상가(상권)정보_의료기관_201909`를 다운로드 받아봅니다."
   ]
  },
  {
   "cell_type": "markdown",
   "metadata": {
    "id": "RsyzuLctE3OP"
   },
   "source": [
    "## 필요한 라이브러리 불러오기"
   ]
  },
  {
   "cell_type": "code",
   "execution_count": null,
   "metadata": {
    "id": "wDi7XU-sE3OQ"
   },
   "outputs": [],
   "source": []
  },
  {
   "cell_type": "markdown",
   "metadata": {
    "id": "MqtVk5ZPE3OR"
   },
   "source": [
    "## 시각화를 위한 폰트 설정"
   ]
  },
  {
   "cell_type": "code",
   "execution_count": null,
   "metadata": {
    "id": "AuBb0AYCE3OR"
   },
   "outputs": [],
   "source": [
    "# 한글폰트 사용을 위해 설치\n",
    "# 아래 모듈을 설치하고 불러오면 별도의 한글폰트 설정이 필요 없습니다.\n",
    "# !pip install koreanize-matplotlib\n",
    "\n",
    "# import koreanize_matplotlib"
   ]
  },
  {
   "cell_type": "code",
   "execution_count": null,
   "metadata": {
    "id": "YUaf8W1tE3OS"
   },
   "outputs": [],
   "source": [
    "import matplotlib.pyplot as plt\n",
    "from IPython.display import set_matplotlib_formats\n",
    "# Window 의 한글 폰트 설정\n",
    "# plt.rc('font',family='Malgun Gothic')\n",
    "# Mac 의 한글 폰트 설정\n",
    "# plt.rc('font', family='AppleGothic') \n",
    "# plt.rc('axes', unicode_minus=False)\n",
    "\n",
    "# 폰트가 선명하게 보이기 위해 - 그래프에 retina display 적용\n",
    "# retina 대신 svg 등의 설정을 할 수도 있으며 \n",
    "# 디스플레이(모니터)가 retina 를 지원해야만 선명한 차이를 볼 수 있습니다.\n",
    "%config InlineBackend.figure_format = 'retina'\n",
    "\n",
    "# 그래프가 노트북 안에 보이게 하기 위해\n",
    "%matplotlib inline"
   ]
  },
  {
   "cell_type": "markdown",
   "metadata": {
    "id": "9vwPnIbkE3OS"
   },
   "source": [
    "## 데이터 로드하기\n",
    "* 판다스에서 데이터를 로드할 때는 read_csv를 사용합니다.\n",
    "* 데이터를 로드해서 df라는 변수에 담습니다.\n",
    "* 그리고 shape 를 통해 데이터의 갯수를 찍습니다. 결과는 (행, 열) 순으로 출력됩니다."
   ]
  },
  {
   "cell_type": "code",
   "execution_count": null,
   "metadata": {
    "id": "ttV0X2f7E3OS"
   },
   "outputs": [],
   "source": []
  },
  {
   "cell_type": "markdown",
   "metadata": {
    "id": "s5l4wDACE3OS"
   },
   "source": [
    "## 데이터 미리보기\n",
    "* head, tail 을 통해 데이터를 미리 볼 수 있습니다."
   ]
  },
  {
   "cell_type": "code",
   "execution_count": null,
   "metadata": {
    "id": "WwTlg2L7E3OS"
   },
   "outputs": [],
   "source": [
    "# head 로 데이터를 미리보기 합니다.\n"
   ]
  },
  {
   "cell_type": "code",
   "execution_count": null,
   "metadata": {
    "id": "fbwQXQt1E3OT",
    "scrolled": false
   },
   "outputs": [],
   "source": [
    "# tail 로 마지막 부분에 있는 데이터를 불러옵니다.\n"
   ]
  },
  {
   "cell_type": "code",
   "execution_count": null,
   "metadata": {
    "id": "DfE6yBAbE3OT"
   },
   "outputs": [],
   "source": [
    "# sample 로 미리보기를 합니다.\n"
   ]
  },
  {
   "cell_type": "markdown",
   "metadata": {
    "id": "kIzkw3plE3OT"
   },
   "source": [
    "## 데이터 요약하기"
   ]
  },
  {
   "cell_type": "markdown",
   "metadata": {
    "id": "73R2vwj5E3OT"
   },
   "source": [
    "### 요약정보"
   ]
  },
  {
   "cell_type": "code",
   "execution_count": null,
   "metadata": {
    "id": "GUeve0JYE3OT"
   },
   "outputs": [],
   "source": [
    "# info로 데이터의 요약을 봅니다.\n"
   ]
  },
  {
   "cell_type": "markdown",
   "metadata": {
    "id": "UBShJpz5E3OT"
   },
   "source": [
    "### 컬럼명 보기"
   ]
  },
  {
   "cell_type": "code",
   "execution_count": null,
   "metadata": {
    "id": "N0zN23K9E3OT"
   },
   "outputs": [],
   "source": [
    "# 컬럼명만 출력해 봅니다.\n"
   ]
  },
  {
   "cell_type": "markdown",
   "metadata": {
    "id": "Tfb-h6m5E3OU"
   },
   "source": [
    "### 데이터 타입"
   ]
  },
  {
   "cell_type": "code",
   "execution_count": null,
   "metadata": {
    "id": "KeWiuFo0E3OU"
   },
   "outputs": [],
   "source": [
    "# 데이터 타입만 출력합니다.\n"
   ]
  },
  {
   "cell_type": "markdown",
   "metadata": {
    "id": "YlRWdVK4E3OU"
   },
   "source": [
    "## 결측치"
   ]
  },
  {
   "cell_type": "code",
   "execution_count": null,
   "metadata": {
    "id": "QxnP2TM2E3OU"
   },
   "outputs": [],
   "source": []
  },
  {
   "cell_type": "code",
   "execution_count": null,
   "metadata": {
    "id": "fftLMfm3E3OU"
   },
   "outputs": [],
   "source": [
    "# 위에서 구한 결측치를 .plot.bar 를 통해 막대그래프로 표현합니다. \n"
   ]
  },
  {
   "cell_type": "code",
   "execution_count": null,
   "metadata": {
    "id": "rHFPUkY1E3OU"
   },
   "outputs": [],
   "source": [
    "# 위에서 계산한 결측치 수를 reset_index 를 통해 데이터프레임으로 만들어 줍니다.\n",
    "# df_null_count 변수에 결과를 담아서 head 로 미리보기를 합니다.\n"
   ]
  },
  {
   "cell_type": "markdown",
   "metadata": {
    "id": "InhRQMflE3OV"
   },
   "source": [
    "## 컬럼명 변경하기"
   ]
  },
  {
   "cell_type": "code",
   "execution_count": null,
   "metadata": {
    "id": "pRLoi4CyE3OV"
   },
   "outputs": [],
   "source": [
    "# df_null_count 변수에 담겨있는 컬럼의 이름을 \"컬럼명\", \"결측치수\"로 변경해 줍니다.\n"
   ]
  },
  {
   "cell_type": "markdown",
   "metadata": {
    "id": "zeacfjRoE3OV"
   },
   "source": [
    "## 정렬하기"
   ]
  },
  {
   "cell_type": "code",
   "execution_count": null,
   "metadata": {
    "id": "AcxhtwmbE3OV"
   },
   "outputs": [],
   "source": [
    "# df_null_count 데이터프레임에 있는 결측치수 컬럼을 sort_values 를 통해 정렬해서\n",
    "# 결측치가 많은 순으로 상위 10개만 출력합니다.\n"
   ]
  },
  {
   "cell_type": "markdown",
   "metadata": {
    "id": "zPIUmkzEE3OV"
   },
   "source": [
    "## 특정 컬럼만 불러오기"
   ]
  },
  {
   "cell_type": "code",
   "execution_count": null,
   "metadata": {
    "id": "5PxT7JU5E3OV"
   },
   "outputs": [],
   "source": [
    "# 지점명 컬럼을 불러옵니다.\n"
   ]
  },
  {
   "cell_type": "code",
   "execution_count": null,
   "metadata": {
    "id": "zXVnUwHaE3OV"
   },
   "outputs": [],
   "source": [
    "# \"컬럼명\" 이라는 컬럼의 값만 가져와서 drop_columns 라는 변수에 담습니다.\n"
   ]
  },
  {
   "cell_type": "code",
   "execution_count": null,
   "metadata": {
    "id": "65w5-YNsE3OW"
   },
   "outputs": [],
   "source": [
    "# drop_columns 변수로 해당 컬럼 정보만 데이터프레임에서 가져옵니다.\n"
   ]
  },
  {
   "cell_type": "markdown",
   "metadata": {
    "id": "qlUTLLbwE3OW"
   },
   "source": [
    "## 제거하기"
   ]
  },
  {
   "cell_type": "code",
   "execution_count": null,
   "metadata": {
    "id": "wwjeg_0uE3OW"
   },
   "outputs": [],
   "source": []
  },
  {
   "cell_type": "code",
   "execution_count": null,
   "metadata": {
    "id": "0j_CFXVqE3OW"
   },
   "outputs": [],
   "source": []
  },
  {
   "cell_type": "markdown",
   "metadata": {
    "id": "oxArs6hTE3OW"
   },
   "source": [
    "## 기초 통계값 보기"
   ]
  },
  {
   "cell_type": "markdown",
   "metadata": {
    "id": "4Lt22x_mE3OX"
   },
   "source": [
    "### 기초 통계 수치"
   ]
  },
  {
   "cell_type": "code",
   "execution_count": null,
   "metadata": {
    "id": "WiUWUq1EE3OX"
   },
   "outputs": [],
   "source": [
    "# 평균값\n"
   ]
  },
  {
   "cell_type": "code",
   "execution_count": null,
   "metadata": {
    "id": "JoGSKfqAE3OX"
   },
   "outputs": [],
   "source": [
    "# 중앙값\n"
   ]
  },
  {
   "cell_type": "code",
   "execution_count": null,
   "metadata": {
    "id": "TgpuNUcAE3OX"
   },
   "outputs": [],
   "source": [
    "# 최댓값\n"
   ]
  },
  {
   "cell_type": "code",
   "execution_count": null,
   "metadata": {
    "id": "ybdet2gfE3OX"
   },
   "outputs": [],
   "source": [
    "# 최솟값\n"
   ]
  },
  {
   "cell_type": "code",
   "execution_count": null,
   "metadata": {
    "id": "TLP_OfIAE3OY"
   },
   "outputs": [],
   "source": [
    "# 개수\n"
   ]
  },
  {
   "cell_type": "markdown",
   "metadata": {
    "id": "39-YfuPVE3OY"
   },
   "source": [
    "### 기초통계값 요약하기 - describe\n",
    "\n",
    "describe 를 사용하면 데이터를 요약해 볼 수 있습니다.\n",
    "기본적으로 수치형 데이터를 요약해서 보여줍니다.\n",
    "데이터의 갯수, 평균, 표준편차, 최솟값, \n",
    "1사분위수(25%), 2사분위수(50%), 3사분위수(75%), 최댓값을 볼 수 있습니다."
   ]
  },
  {
   "cell_type": "code",
   "execution_count": null,
   "metadata": {
    "id": "jNJn5Ft_E3OY"
   },
   "outputs": [],
   "source": [
    "# 위도를 describe로 요약해 봅니다.\n"
   ]
  },
  {
   "cell_type": "code",
   "execution_count": null,
   "metadata": {
    "id": "uFWOP2u0E3OZ"
   },
   "outputs": [],
   "source": [
    "# 2개의 컬럼을 describe 로 요약합니다.\n"
   ]
  },
  {
   "cell_type": "code",
   "execution_count": null,
   "metadata": {
    "id": "dwrb0N8NE3OZ",
    "scrolled": true
   },
   "outputs": [],
   "source": [
    "# describe로 문자열 데이터타입의 요약을 봅니다.\n"
   ]
  },
  {
   "cell_type": "markdown",
   "metadata": {
    "id": "PtCdb3wDE3OZ"
   },
   "source": [
    "### 중복제거한 값 보기\n",
    "* unique 로 중복을 제거한 값을 보고 nunique 로 갯수를 세어봅니다."
   ]
  },
  {
   "cell_type": "code",
   "execution_count": null,
   "metadata": {
    "id": "tWqzvBJjE3OZ"
   },
   "outputs": [],
   "source": [
    "# \"상권업종대분류명\"\n"
   ]
  },
  {
   "cell_type": "code",
   "execution_count": null,
   "metadata": {
    "id": "TGhavDxzE3OZ"
   },
   "outputs": [],
   "source": []
  },
  {
   "cell_type": "code",
   "execution_count": null,
   "metadata": {
    "id": "x9xw1re8E3OZ"
   },
   "outputs": [],
   "source": [
    "# \"상권업종중분류명\"\n"
   ]
  },
  {
   "cell_type": "code",
   "execution_count": null,
   "metadata": {
    "id": "FZWGZdgYE3OZ"
   },
   "outputs": [],
   "source": []
  },
  {
   "cell_type": "code",
   "execution_count": null,
   "metadata": {
    "id": "NzCNjb3SE3OZ"
   },
   "outputs": [],
   "source": [
    "# \"상권업종소분류명\"\n"
   ]
  },
  {
   "cell_type": "code",
   "execution_count": null,
   "metadata": {
    "id": "pkmttC2CE3OZ"
   },
   "outputs": [],
   "source": []
  },
  {
   "cell_type": "code",
   "execution_count": null,
   "metadata": {
    "id": "hFSlc2ipE3OZ"
   },
   "outputs": [],
   "source": [
    "# nunique 대신 len 을 사용할 수도 있습니다.\n"
   ]
  },
  {
   "cell_type": "markdown",
   "metadata": {
    "id": "cOhnKbCoE3Oa"
   },
   "source": [
    "### 그룹화된 요약값 보기 - value_counts\n",
    "* value_counts 를 사용하면 카테고리 형태의 데이터 갯수를 세어볼 수 있습니다."
   ]
  },
  {
   "cell_type": "code",
   "execution_count": null,
   "metadata": {
    "id": "0YeXLJIPE3Oa"
   },
   "outputs": [],
   "source": [
    "# value_counts 를 사용하면 카테고리 형태의 데이터 갯수를 세어볼 수 있습니다.\n",
    "# 시도코드를 세어봅니다.\n"
   ]
  },
  {
   "cell_type": "code",
   "execution_count": null,
   "metadata": {
    "id": "ec3ceekLE3Oa"
   },
   "outputs": [],
   "source": [
    "# 시도명을 세어봅니다.\n"
   ]
  },
  {
   "cell_type": "code",
   "execution_count": null,
   "metadata": {
    "id": "p7MUYF9cE3Oa"
   },
   "outputs": [],
   "source": [
    "# normalize=True 옵션을 사용하면 비율을 구할 수 있습니다.\n"
   ]
  },
  {
   "cell_type": "code",
   "execution_count": null,
   "metadata": {
    "id": "SY7WKQ2NE3Oa",
    "scrolled": true
   },
   "outputs": [],
   "source": [
    "# Pandas 에는 plot기능을 내장하고 있습니다. \n",
    "# 위에서 분석한 시도명 수를 막대그래프로 표현해 봅니다.\n"
   ]
  },
  {
   "cell_type": "code",
   "execution_count": null,
   "metadata": {
    "id": "9KA3G8OAE3Oa"
   },
   "outputs": [],
   "source": [
    "# 판다스의 plot.pie()를 사용해서 파이그래프를 그려봅니다.\n"
   ]
  },
  {
   "cell_type": "code",
   "execution_count": null,
   "metadata": {
    "id": "6yi0cU-cE3Oa"
   },
   "outputs": [],
   "source": []
  },
  {
   "cell_type": "code",
   "execution_count": null,
   "metadata": {
    "id": "0fnx1xoGE3Oa"
   },
   "outputs": [],
   "source": [
    "# \"상권업종대분류명\"으로 갯수를 세어봅니다.\n"
   ]
  },
  {
   "cell_type": "code",
   "execution_count": null,
   "metadata": {
    "id": "D3QJlfqwE3Oa"
   },
   "outputs": [],
   "source": [
    "# \"상권업종중분류명\"으로 갯수를 세어봅니다.\n"
   ]
  },
  {
   "cell_type": "code",
   "execution_count": null,
   "metadata": {
    "id": "yMEH5j6nE3Oa"
   },
   "outputs": [],
   "source": [
    "# normalize=True 를 사용해 비율을 구해봅니다.\n"
   ]
  },
  {
   "cell_type": "code",
   "execution_count": null,
   "metadata": {
    "id": "FWcZ3w7hE3Ob"
   },
   "outputs": [],
   "source": [
    "# 판다스의 plot.bar()를 사용해서 막대그래프를 그려봅니다. \n"
   ]
  },
  {
   "cell_type": "code",
   "execution_count": null,
   "metadata": {
    "id": "z76V9z59E3Ob"
   },
   "outputs": [],
   "source": [
    "# 판다스의 plot.pie()를 사용해서 파이그래프를 그려봅니다.\n"
   ]
  },
  {
   "cell_type": "code",
   "execution_count": null,
   "metadata": {
    "id": "2FOXh9OkE3Ob"
   },
   "outputs": [],
   "source": [
    "# \"상권업종소분류명\" 에 대한 그룹화 된 값을 카운트 합니다.\n"
   ]
  },
  {
   "cell_type": "code",
   "execution_count": null,
   "metadata": {
    "id": "tGO6wOsUE3Ob"
   },
   "outputs": [],
   "source": [
    "# \"상권업종소분류명\"으로 갯수를 세어봅니다.\n",
    "# 판다스의 plot.bar()를 사용해서 막대그래프를 그려봅니다. \n"
   ]
  },
  {
   "cell_type": "markdown",
   "metadata": {
    "id": "-eaqXjUJE3Ob"
   },
   "source": [
    "## 데이터 색인하기\n",
    "* 특정 데이터만 모아서 따로 봅니다."
   ]
  },
  {
   "cell_type": "code",
   "execution_count": null,
   "metadata": {
    "id": "YnBMgvWnE3Ob"
   },
   "outputs": [],
   "source": [
    "# \"상권업종중분류명\"이 \"약국/한약방\"인 데이터만 가져와서 \n",
    "# df_medical 이라는 변수에 담아봅니다.\n",
    "# 그리고 head()를 통해 미리보기를 합니다.\n"
   ]
  },
  {
   "cell_type": "code",
   "execution_count": null,
   "metadata": {
    "id": "lNqGdUDhE3Ob"
   },
   "outputs": [],
   "source": [
    "# \"상권업종대분류명\" 에서 \"의료\"만 가져옵니다.\n",
    "# df.loc를 사용하면 행,열을 함께 가져올 수 있습니다.\n",
    "# 이 기능을 통해 \"상권업종중분류명\" 만 가져옵니다. \n",
    "# 그리고 가져온 결과를 value_counts 를 통해 중분류의 갯수를 세어봅니다.\n",
    "# shop_type\n"
   ]
  },
  {
   "cell_type": "code",
   "execution_count": null,
   "metadata": {
    "id": "lhqp5ltTE3Ob"
   },
   "outputs": [],
   "source": [
    "# 위와 똑같은 기능을 수행하는 코드입니다. 아래와 같이 한 줄에 표현할 수도 있습니다. \n",
    "# df.loc[df[\"상권업종대분류명\"] == \"의료\", \"상권업종중분류명\"].value_counts()"
   ]
  },
  {
   "cell_type": "code",
   "execution_count": null,
   "metadata": {
    "id": "y4wtvIUqE3Ob"
   },
   "outputs": [],
   "source": [
    "# 유사의료업만 따로 모아봅니다.\n"
   ]
  },
  {
   "cell_type": "code",
   "execution_count": null,
   "metadata": {
    "id": "hwrV-fQyE3Ob"
   },
   "outputs": [],
   "source": [
    "# 상호명을 그룹화해서 갯수를 세어봅니다.\n",
    "# value_counts 를 사용해서 상위 10개를 출력합니다.\n"
   ]
  },
  {
   "cell_type": "code",
   "execution_count": null,
   "metadata": {
    "id": "OkxW0gCEE3Ob"
   },
   "outputs": [],
   "source": [
    "# 유사의료업만 df_medi 변수에 담겨져 있습니다.\n",
    "# df_medi 변수에서 상호명으로 갯수를 세어봅니다. \n",
    "# 가장 많은 상호 상위 10개를 출력해 봅니다.\n"
   ]
  },
  {
   "cell_type": "markdown",
   "metadata": {
    "id": "SSIkjWliE3Ob"
   },
   "source": [
    "### 여러 조건으로 색인하기"
   ]
  },
  {
   "cell_type": "code",
   "execution_count": null,
   "metadata": {
    "id": "XHOTJtTjE3Oc"
   },
   "outputs": [],
   "source": [
    "# \"상권업종소분류명\"이 \"약국\" 인 것과\n",
    "# \"시도명\" 이 \"서울특별시\"인 데이터만 가져옵니다.\n",
    "# df_seoul_drug"
   ]
  },
  {
   "cell_type": "markdown",
   "metadata": {
    "id": "1wL0vhOME3Oc"
   },
   "source": [
    "### 구별로 보기"
   ]
  },
  {
   "cell_type": "code",
   "execution_count": null,
   "metadata": {
    "id": "wGLvDc-oE3Oc"
   },
   "outputs": [],
   "source": [
    "# 위에서 색인한 데이터로 \"시군구명\"으로 그룹화 해서 갯수를 세어봅니다.\n",
    "# 구별로 약국이 몇개가 있는지 확인해 봅니다.\n"
   ]
  },
  {
   "cell_type": "code",
   "execution_count": null,
   "metadata": {
    "id": "saa7Xeu5E3Oc"
   },
   "outputs": [],
   "source": [
    "# normalize=True 를 통해 비율을 구해봅니다.\n"
   ]
  },
  {
   "cell_type": "code",
   "execution_count": null,
   "metadata": {
    "id": "Sgq957JrE3Oc"
   },
   "outputs": [],
   "source": [
    "# 위에서 구한 결과를 판다스의 plot.bar()를 활용해 막대그래프로 그립니다.\n"
   ]
  },
  {
   "cell_type": "code",
   "execution_count": null,
   "metadata": {
    "id": "WSnZk-meE3Oc"
   },
   "outputs": [],
   "source": [
    "# \"상권업종소분류명\"이 \"종합병원\" 인 것과\n",
    "# \"시도명\" 이 \"서울특별시\"인 데이터만 가져옵니다.\n",
    "# df_seoul_hospital"
   ]
  },
  {
   "cell_type": "code",
   "execution_count": null,
   "metadata": {
    "id": "sNs6g8YkE3Oc"
   },
   "outputs": [],
   "source": [
    "# \"시군구명\" 으로 그룹화 해서 구별로 종합병원의 수를 세어봅니다.\n"
   ]
  },
  {
   "cell_type": "markdown",
   "metadata": {
    "id": "bthwZoK9E3Oc"
   },
   "source": [
    "### 텍스트 데이터 색인하기"
   ]
  },
  {
   "cell_type": "code",
   "execution_count": null,
   "metadata": {
    "id": "hnt2KNfdE3Oc"
   },
   "outputs": [],
   "source": [
    "# str.contains 를 사용해서 \"상호명\"에 \"대학병원\"이 들어가는 것을 가져와서 head()로 미리보기 합니다.\n"
   ]
  },
  {
   "cell_type": "code",
   "execution_count": null,
   "metadata": {
    "id": "2jXzsI0mE3Oc"
   },
   "outputs": [],
   "source": [
    "# str.startswith 를 사용해 \"서울\"로 시작하는 도로명주소를 가져와서 head()로 미리보기 합니다.\n"
   ]
  },
  {
   "cell_type": "code",
   "execution_count": null,
   "metadata": {
    "id": "pc71hS6zE3Oc"
   },
   "outputs": [],
   "source": [
    "# str.endswith를 사용해서 \"상호명\"이 \"병원\"으로 끝나는 데이터를 가져와서 head()로 미리보기 합니다.\n"
   ]
  },
  {
   "cell_type": "markdown",
   "metadata": {
    "id": "LyAmq9j-E3Oc"
   },
   "source": [
    "### 특정 지역만 보기"
   ]
  },
  {
   "cell_type": "code",
   "execution_count": null,
   "metadata": {
    "id": "YzXSuYgmE3Od",
    "scrolled": true
   },
   "outputs": [],
   "source": [
    "# 서울에 있는 데이터의 위도와 경도를 봅니다.\n",
    "# 결과를 df_seoul 이라는 데이터프레임에 저장합니다.\n",
    "# 새로운 변수에 데이터프레임을 저장시 copy()를 사용합니다.\n",
    "# df_seoul\n"
   ]
  },
  {
   "cell_type": "code",
   "execution_count": null,
   "metadata": {
    "id": "3iqCRgJsE3Od"
   },
   "outputs": [],
   "source": [
    "# seaborn 의 countplot 을 사용해서 위에서 만든 df_seoul 데이터프레임의\n",
    "# 시군구명을 시각화 합니다.\n",
    "plt.figure(figsize=(9, 6))\n"
   ]
  },
  {
   "cell_type": "code",
   "execution_count": null,
   "metadata": {
    "id": "VV8MNls1E3Od"
   },
   "outputs": [],
   "source": [
    "# Pandas 의 plot.scatter 를 통해 경도와 위도를 표시해 봅니다.\n"
   ]
  },
  {
   "cell_type": "code",
   "execution_count": null,
   "metadata": {
    "id": "DfqNEVYzE3Od",
    "scrolled": false
   },
   "outputs": [],
   "source": [
    "# seaborn의 scatterplot 을 통해 구별 경도와 위도를 표시해 봅니다.\n",
    "plt.figure(figsize=(16, 12))\n"
   ]
  },
  {
   "cell_type": "code",
   "execution_count": null,
   "metadata": {
    "id": "WDQ0vIFqE3Od"
   },
   "outputs": [],
   "source": [
    "# seaborn의 scatterplot 을 통해 \"상권업종중분류명\" 경도와 위도를 표시해 봅니다.\n",
    "plt.figure(figsize=(16, 12))\n"
   ]
  },
  {
   "cell_type": "code",
   "execution_count": null,
   "metadata": {
    "id": "UoXe9LNnE3Od",
    "scrolled": true
   },
   "outputs": [],
   "source": [
    "# seaborn의 scatterplot 을 통해 전국 데이터(df)로 구별 경도와 위도를 표시해 봅니다.\n",
    "plt.figure(figsize=(16, 12))\n"
   ]
  },
  {
   "cell_type": "markdown",
   "metadata": {
    "id": "_t_Nyk0CE3Od"
   },
   "source": [
    "\n",
    "## Folium 으로 지도 활용하기\n",
    "* 다음의 프롬프트 창을 열어 conda 명령어로 설치합니다.\n",
    "<img src=\"https://t1.daumcdn.net/cfile/tistory/99576B4A5B751DC902\">\n",
    "\n",
    "검은색 프롬프트 창에 아래 명령어를 통해 folium 을 설치합니다.\n",
    "\n",
    "\n",
    "`conda install -c conda-forge folium`\n",
    "\n",
    "### Folium 사용예제\n",
    "http://nbviewer.jupyter.org/github/python-visualization/folium/tree/master/examples/\n"
   ]
  },
  {
   "cell_type": "code",
   "execution_count": null,
   "metadata": {
    "id": "ytwXFevnE3Od"
   },
   "outputs": [],
   "source": [
    "# 아나콘다에서 folium 을 사용하기 위해서는 별도의 설치가 필요\n",
    "# https://anaconda.org/conda-forge/folium\n",
    "# conda install -c conda-forge folium \n",
    "# 지도 시각화를 위한 라이브러리\n"
   ]
  },
  {
   "cell_type": "code",
   "execution_count": null,
   "metadata": {
    "id": "cMU4pzLyE3Od"
   },
   "outputs": [],
   "source": [
    "# geo_df 에 df_seoul_hospital 을 copy() 로 복사해서 할당합니다.\n"
   ]
  },
  {
   "cell_type": "code",
   "execution_count": null,
   "metadata": {
    "id": "8UroVzTcE3Od"
   },
   "outputs": [],
   "source": [
    "# 지도의 중심을 지정하기 위해 위도와 경도의 평균을 구합니다. \n"
   ]
  },
  {
   "cell_type": "markdown",
   "metadata": {
    "id": "hU48vcgqE3Od"
   },
   "source": [
    "## 좀 더 분석해 보기\n",
    "* 상권업종중분류명, 상권업종소분류명 중에 관심 있는 분류명을 색인 후에 시도별, 시군구별 분석을 해보세요.\n",
    "* 예시) \n",
    "    * 언어치료는 시군구별로 어디에 많이 위치할까?\n",
    "    * 의료시설은 서울과 강남에 집중되어 있을까?\n",
    "    * 강남에는 피부과, 성형외과가 다른 지역에 비해 많을까?"
   ]
  },
  {
   "cell_type": "code",
   "execution_count": null,
   "metadata": {
    "id": "cldCwekkE3Od"
   },
   "outputs": [],
   "source": []
  },
  {
   "cell_type": "code",
   "execution_count": null,
   "metadata": {
    "id": "0-of13DXE3Od"
   },
   "outputs": [],
   "source": []
  }
 ],
 "metadata": {
  "colab": {
   "provenance": [
    {
     "file_id": "https://github.com/corazzon/boostcourse-ds-510/blob/master/open-data-analysis-input.ipynb",
     "timestamp": 1667656559898
    }
   ]
  },
  "kernelspec": {
   "display_name": "Python 3 (ipykernel)",
   "language": "python",
   "name": "python3"
  },
  "language_info": {
   "codemirror_mode": {
    "name": "ipython",
    "version": 3
   },
   "file_extension": ".py",
   "mimetype": "text/x-python",
   "name": "python",
   "nbconvert_exporter": "python",
   "pygments_lexer": "ipython3",
   "version": "3.9.13"
  },
  "toc": {
   "base_numbering": 1,
   "nav_menu": {},
   "number_sections": true,
   "sideBar": true,
   "skip_h1_title": false,
   "title_cell": "Table of Contents",
   "title_sidebar": "Contents",
   "toc_cell": false,
   "toc_position": {
    "height": "518px",
    "left": "105px",
    "top": "571px",
    "width": "171px"
   },
   "toc_section_display": true,
   "toc_window_display": true
  },
  "varInspector": {
   "cols": {
    "lenName": 16,
    "lenType": 16,
    "lenVar": 40
   },
   "kernels_config": {
    "python": {
     "delete_cmd_postfix": "",
     "delete_cmd_prefix": "del ",
     "library": "var_list.py",
     "varRefreshCmd": "print(var_dic_list())"
    },
    "r": {
     "delete_cmd_postfix": ") ",
     "delete_cmd_prefix": "rm(",
     "library": "var_list.r",
     "varRefreshCmd": "cat(var_dic_list()) "
    }
   },
   "types_to_exclude": [
    "module",
    "function",
    "builtin_function_or_method",
    "instance",
    "_Feature"
   ],
   "window_display": false
  }
 },
 "nbformat": 4,
 "nbformat_minor": 1
}
